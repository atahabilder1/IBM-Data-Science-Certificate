{
 "cells": [
  {
   "cell_type": "markdown",
   "id": "fb811dca",
   "metadata": {},
   "source": [
    "# Data Science Tools and Ecosystem"
   ]
  },
  {
   "cell_type": "markdown",
   "id": "4dcc8401",
   "metadata": {},
   "source": [
    "In this notebook, Data Science Tools and Ecosystem are summarized."
   ]
  },
  {
   "cell_type": "markdown",
   "id": "10d35802",
   "metadata": {},
   "source": [
    "**Objectives:**\n",
    "- List popular languages for Data Science\n",
    "- List commonly used libraries for Data Science\n",
    "- Create a table in markdown\n",
    "- Demonstrate basic arithmetic operations in Python\n",
    "- Share a notebook via GitHub"
   ]
  },
  {
   "cell_type": "markdown",
   "id": "a39b760f",
   "metadata": {},
   "source": [
    "Some of the popular languages that Data Scientists use are:\n",
    "1. Python\n",
    "2. R\n",
    "3. SQL"
   ]
  },
  {
   "cell_type": "markdown",
   "id": "88ac4d03",
   "metadata": {},
   "source": [
    "Some of the commonly used libraries used by Data Scientists include:\n",
    "1. Pandas\n",
    "2. NumPy\n",
    "3. Matplotlib"
   ]
  },
  {
   "cell_type": "markdown",
   "id": "d66e1d01",
   "metadata": {},
   "source": [
    "| Data Science Tools |\n",
    "|--------------------|\n",
    "| Jupyter Notebook   |\n",
    "| RStudio            |\n",
    "| Apache Zeppelin    |"
   ]
  },
  {
   "cell_type": "markdown",
   "id": "50566768",
   "metadata": {},
   "source": [
    "### Below are a few examples of evaluating arithmetic expressions in Python."
   ]
  },
  {
   "cell_type": "code",
   "execution_count": 1,
   "id": "d7091f59",
   "metadata": {
    "execution": {
     "iopub.execute_input": "2025-09-08T16:41:58.901203Z",
     "iopub.status.busy": "2025-09-08T16:41:58.900681Z",
     "iopub.status.idle": "2025-09-08T16:41:58.919787Z",
     "shell.execute_reply": "2025-09-08T16:41:58.918034Z"
    }
   },
   "outputs": [
    {
     "data": {
      "text/plain": [
       "17"
      ]
     },
     "execution_count": 1,
     "metadata": {},
     "output_type": "execute_result"
    }
   ],
   "source": [
    "# This a simple arithmetic expression to multiply then add integers\n",
    "(3*4)+5"
   ]
  },
  {
   "cell_type": "code",
   "execution_count": 2,
   "id": "4f518543",
   "metadata": {
    "execution": {
     "iopub.execute_input": "2025-09-08T16:41:58.951650Z",
     "iopub.status.busy": "2025-09-08T16:41:58.951050Z",
     "iopub.status.idle": "2025-09-08T16:41:58.959118Z",
     "shell.execute_reply": "2025-09-08T16:41:58.957777Z"
    }
   },
   "outputs": [
    {
     "data": {
      "text/plain": [
       "3.3333333333333335"
      ]
     },
     "execution_count": 2,
     "metadata": {},
     "output_type": "execute_result"
    }
   ],
   "source": [
    "# This will convert 200 minutes to hours by dividing by 60\n",
    "200/60"
   ]
  },
  {
   "cell_type": "markdown",
   "id": "504b9eff",
   "metadata": {},
   "source": [
    "## Author\n",
    "Anik Tahabilder"
   ]
  },
  {
   "cell_type": "markdown",
   "id": "c8003942",
   "metadata": {},
   "source": [
    "## Share your notebook through GitHub (Exercise 12)\n",
    "\n",
    "Upload this notebook to a **public** GitHub repository.\n",
    "\n",
    "- Save/download this notebook as `.ipynb`.\n",
    "- Create (or use) a public GitHub repo and upload the file.\n",
    "- Ensure the link is accessible without login.\n",
    "\n",
    "**GitHub repository link (paste here):** <https://github.com/your-username/your-repo/DataScienceEcosystem.ipynb>"
   ]
  },
  {
   "cell_type": "markdown",
   "id": "d0817f1e",
   "metadata": {},
   "source": [
    "## Screenshot of the first page (Exercise 13)\n",
    "\n",
    "Open the notebook on GitHub or in Jupyter and take a screenshot of the **first page**.\n",
    "\n",
    "- Save it as: `1-notebook.png`\n",
    "- Include it with the other required screenshots for submission."
   ]
  }
 ],
 "metadata": {
  "kernelspec": {
   "display_name": "Python 3",
   "language": "python",
   "name": "python3"
  },
  "language_info": {
   "codemirror_mode": {
    "name": "ipython",
    "version": 3
   },
   "file_extension": ".py",
   "mimetype": "text/x-python",
   "name": "python",
   "nbconvert_exporter": "python",
   "pygments_lexer": "ipython3",
   "version": "3.11.8"
  }
 },
 "nbformat": 4,
 "nbformat_minor": 5
}
